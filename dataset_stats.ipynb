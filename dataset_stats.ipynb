{
 "cells": [
  {
   "cell_type": "code",
   "execution_count": 3,
   "id": "3e628af5",
   "metadata": {},
   "outputs": [],
   "source": [
    "import json\n",
    "import os\n",
    "import sys\n",
    "import glob\n",
    "import numpy as np\n",
    "from PIL import Image\n",
    "from matplotlib import pyplot as plt"
   ]
  },
  {
   "attachments": {},
   "cell_type": "markdown",
   "id": "28a3d308",
   "metadata": {},
   "source": [
    "Locate results"
   ]
  },
  {
   "cell_type": "code",
   "execution_count": 4,
   "id": "d420f6b9",
   "metadata": {},
   "outputs": [],
   "source": [
    "results_dir = 'results/race_results.json'\n",
    "with open(results_dir, 'r') as input_file:\n",
    "    results_dict = json.load(input_file)"
   ]
  },
  {
   "cell_type": "code",
   "execution_count": 5,
   "id": "2265b33c",
   "metadata": {},
   "outputs": [
    {
     "data": {
      "text/plain": [
       "3.6196184158325195"
      ]
     },
     "execution_count": 5,
     "metadata": {},
     "output_type": "execute_result"
    }
   ],
   "source": [
    "results_dict['nanodet_320x320']['model_size']"
   ]
  },
  {
   "cell_type": "markdown",
   "id": "cef34f4f",
   "metadata": {},
   "source": [
    "Plot counts"
   ]
  },
  {
   "cell_type": "code",
   "execution_count": 6,
   "id": "38aafd6c",
   "metadata": {},
   "outputs": [],
   "source": [
    "models = list(results_dict.keys())\n",
    "sizes = [results_dict[model]['model_size'] for model in models]"
   ]
  },
  {
   "cell_type": "code",
   "execution_count": 7,
   "id": "941b8dcf",
   "metadata": {},
   "outputs": [
    {
     "ename": "",
     "evalue": "",
     "output_type": "error",
     "traceback": [
      "\u001b[1;31mCanceled future for execute_request message before replies were done"
     ]
    },
    {
     "ename": "",
     "evalue": "",
     "output_type": "error",
     "traceback": [
      "\u001b[1;31mThe Kernel crashed while executing code in the the current cell or a previous cell. Please review the code in the cell(s) to identify a possible cause of the failure. Click <a href='https://aka.ms/vscodeJupyterKernelCrash'>here</a> for more info. View Jupyter <a href='command:jupyter.viewOutput'>log</a> for further details."
     ]
    }
   ],
   "source": [
    "fig,axes = plt.subplots(nrows=1, ncols=3, figsize=(12,4), sharey=True)\n",
    "ax=axes.ravel()\n",
    "\n",
    "ax[0].bar(models, sizes, color = 'tab:red', width = 0.4)\n",
    "ax[0].set_title(\"Ball visibility\")\n",
    "ax[0].set_ylabel(\"No. of occurances\")\n",
    "#for i, v in enumerate(vis_vals):\n",
    "#    ax[0].text(i - 0.175, v + 10, str(v), color='k', fontweight='bold')\n",
    "\n",
    "'''\n",
    "ax[1].bar(type_keys, type_vals, color ='tab:blue', width = 0.4)\n",
    "ax[1].set_title(\"Game type\")\n",
    "for i, v in enumerate(type_vals):\n",
    "    ax[1].text(i - 0.125, v + 10, str(v), color='k', fontweight='bold')\n",
    "\n",
    "ax[2].bar(ball_keys, ball_vals, color = 'tab:green', width = 0.4)\n",
    "ax[2].set_title(\"Ball Size\")\n",
    "for i, v in enumerate(ball_vals):\n",
    "    ax[2].text(i - 0.175, v + 10, str(v), color='k', fontweight='bold')\n",
    "'''\n",
    "\n",
    "#fig.tight_layout()\n",
    "plt.show()"
   ]
  },
  {
   "attachments": {},
   "cell_type": "markdown",
   "id": "b51c92ab",
   "metadata": {},
   "source": [
    "Plot object characteristics"
   ]
  },
  {
   "cell_type": "code",
   "execution_count": 8,
   "id": "2dc523c5",
   "metadata": {},
   "outputs": [
    {
     "data": {
      "image/png": "[encoded data removed]",
      "text/plain": [
       "<Figure size 1200x400 with 3 Axes>"
      ]
     },
     "metadata": {},
     "output_type": "display_data"
    }
   ],
   "source": [
    "fig,axes = plt.subplots(nrows=1, ncols=3, figsize=(12,4), sharey=True)\n",
    "ax=axes.ravel()\n",
    "\n",
    "ball_rads = np.array(ball_rads)*2\n",
    "ax[0].hist(ball_rads, bins=35)\n",
    "ax[0].set_title(\"Ball size in pixels\")\n",
    "min_ylim, max_ylim = ax[0].axis()[-2:]\n",
    "ax[0].axvline(ball_rads.mean(), color='k', linestyle='dashed', linewidth=1.5)\n",
    "ax[0].text(ball_rads.mean()*1.1, max_ylim*0.9, 'Mean: {:.2f}'.format(ball_rads.mean()))\n",
    "\n",
    "ball_x = np.array(ball_x)\n",
    "ax[1].hist(ball_x, bins=180)\n",
    "ax[1].set_title(\"Ball position x\")\n",
    "min_ylim, max_ylim = ax[1].axis()[-2:]\n",
    "ax[1].text(ball_x.mean()*1.1, max_ylim*0.9, 'Mean: {:.2f}'.format(ball_x.mean()))\n",
    "\n",
    "ball_y = np.array(ball_y)\n",
    "ax[2].hist(ball_y, bins=180)\n",
    "ax[2].set_title(\"Ball position y\")\n",
    "min_ylim, max_ylim = ax[2].axis()[-2:]\n",
    "ax[2].text(ball_y.mean()*1.1, max_ylim*0.9, 'Mean: {:.2f}'.format(ball_y.mean()))\n",
    "\n",
    "plt.show()"
   ]
  }
 ],
 "metadata": {
  "kernelspec": {
   "display_name": "Python 3 (ipykernel)",
   "language": "python",
   "name": "python3"
  },
  "language_info": {
   "codemirror_mode": {
    "name": "ipython",
    "version": 3
   },
   "file_extension": ".py",
   "mimetype": "text/x-python",
   "name": "python",
   "nbconvert_exporter": "python",
   "pygments_lexer": "ipython3",
   "version": "3.10.10"
  }
 },
 "nbformat": 4,
 "nbformat_minor": 5
}
